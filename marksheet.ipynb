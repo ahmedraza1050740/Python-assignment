{
 "cells": [
  {
   "cell_type": "code",
   "execution_count": 28,
   "metadata": {},
   "outputs": [
    {
     "name": "stdout",
     "output_type": "stream",
     "text": [
      "Enter math marks33\n",
      "Enter English marks22\n",
      "Enter Urdu marks22\n",
      "Enter Physics marks34\n",
      "Enter Chemistry marks23\n",
      "Total Marks= 134.0\n",
      "\n",
      "Percentage= 26.8\n",
      "You are FAIL\n"
     ]
    }
   ],
   "source": [
    "math=int(input(\"Enter math marks\"))\n",
    "eng=int(input(\"Enter English marks\"))\n",
    "urdu=int(input(\"Enter Urdu marks\"))\n",
    "physics=int(input(\"Enter Physics marks\"))\n",
    "chemistry=int(input(\"Enter Chemistry marks\"))\n",
    "total=float(math+eng+urdu+physics+chemistry)\n",
    "print(\"Total Marks=\" ,total)\n",
    "per=float(total/500*100)\n",
    "print(\"\\nPercentage=\",per)\n",
    "if per>=80:\n",
    "    print(\"Grade=A+\")\n",
    "    \n",
    "elif per>=70 and per<80:\n",
    "    print(\"Grade=A\")\n",
    "elif per>=60 and per<70:\n",
    "    print(\"Grade=B\")\n",
    "elif per>=50 and per<60:\n",
    "    print(\"Grade=C\")\n",
    "elif per>=40 and per<50:\n",
    "    print(\"Grade=D\")\n",
    "else:\n",
    "    print(\"You are FAIL\")\n",
    "\n",
    "\n",
    "\n"
   ]
  },
  {
   "cell_type": "markdown",
   "metadata": {},
   "source": [
    "## "
   ]
  },
  {
   "cell_type": "code",
   "execution_count": 49,
   "metadata": {},
   "outputs": [
    {
     "name": "stdout",
     "output_type": "stream",
     "text": [
      "Enter Number=4\n",
      "4\n",
      "Given Number is Even\n"
     ]
    }
   ],
   "source": [
    "a=int(input(\"Enter Number=\"))\n",
    "print(a)\n",
    "if a%2 == 0:\n",
    "    print(\"Given Number is Even\")\n",
    "else:\n",
    "    print(\"Given Number is Odd\")"
   ]
  },
  {
   "cell_type": "code",
   "execution_count": 55,
   "metadata": {},
   "outputs": [
    {
     "name": "stdout",
     "output_type": "stream",
     "text": [
      "Enter value\n",
      "1234567\n",
      "7\n"
     ]
    }
   ],
   "source": [
    "a=input(\"Enter value\\n\")\n",
    "print(len(a))"
   ]
  },
  {
   "cell_type": "code",
   "execution_count": 80,
   "metadata": {},
   "outputs": [
    {
     "ename": "IndentationError",
     "evalue": "expected an indented block (<ipython-input-80-6bbc90888c93>, line 4)",
     "output_type": "error",
     "traceback": [
      "\u001b[1;36m  File \u001b[1;32m\"<ipython-input-80-6bbc90888c93>\"\u001b[1;36m, line \u001b[1;32m4\u001b[0m\n\u001b[1;33m    res+ =num\u001b[0m\n\u001b[1;37m      ^\u001b[0m\n\u001b[1;31mIndentationError\u001b[0m\u001b[1;31m:\u001b[0m expected an indented block\n"
     ]
    }
   ],
   "source": [
    "data= [1, 2, 3, 4]\n",
    "res=0\n",
    "for num in data:\n",
    "res+ =num\n",
    "print(res)"
   ]
  },
  {
   "cell_type": "code",
   "execution_count": null,
   "metadata": {},
   "outputs": [],
   "source": []
  },
  {
   "cell_type": "code",
   "execution_count": null,
   "metadata": {},
   "outputs": [],
   "source": []
  }
 ],
 "metadata": {
  "kernelspec": {
   "display_name": "Python 3",
   "language": "python",
   "name": "python3"
  },
  "language_info": {
   "codemirror_mode": {
    "name": "ipython",
    "version": 3
   },
   "file_extension": ".py",
   "mimetype": "text/x-python",
   "name": "python",
   "nbconvert_exporter": "python",
   "pygments_lexer": "ipython3",
   "version": "3.7.4"
  }
 },
 "nbformat": 4,
 "nbformat_minor": 2
}
