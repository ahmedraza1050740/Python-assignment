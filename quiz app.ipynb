{
 "cells": [
  {
   "cell_type": "code",
   "execution_count": null,
   "metadata": {},
   "outputs": [],
   "source": [
    "quiz=[\n",
    "    {\n",
    "        \"SNo\" :1,\n",
    "        \"Question\": \"What is country name\",\n",
    "        \"option\" : [\"Pakistan\",\"UAE\",\"Uk\",\"US\"],\n",
    "        \"ans\" :\"Pakistan\"\n",
    "    },\n",
    "      {\n",
    "        \"SNo\" :2,\n",
    "        \"Question\": \"What is the Capital of Pakistan\",\n",
    "        \"option\" : [\"Karachi\",\"Islamabad\",\"Panjab\",\"Hydrabad\"],\n",
    "        \"ans\" :\"Islamabad\"\n",
    "    },\n",
    "      {\n",
    "        \"SNo\" :3,\n",
    "        \"Question\": \"UN stand for\",\n",
    "        \"option\" : [\"Uni Nation\",\"United Nation\",\"United North\",\"Uni North\"],\n",
    "        \"ans\" :\"United Nation\"\n",
    "    },\n",
    "      {\n",
    "        \"SNo\" :4,\n",
    "        \"Question\": \"React is \",\n",
    "        \"option\" : [\"Framework\",\"Library\",\"Plate form\",\"Machine learning\"],\n",
    "        \"ans\" :\"Library\"\n",
    "    },\n",
    "      {\n",
    "        \"SNo\" :5,\n",
    "        \"Question\": \"React is the library of:\",\n",
    "        \"option\" : [\"Youtube\",\"Yahoo\",\"Google\",\"Facebook\"],\n",
    "        \"ans\" :\"Facebook\"\n",
    "    },\n",
    "]\n",
    "score=0\n",
    "\n",
    "for a in quiz:\n",
    "    data = a[\"SNo\"] , a[\"Question\"] , a['option']\n",
    "    answer = input(data)\n",
    "if answer==['ans'] :\n",
    "    score=score+1\n",
    "    print(score)\n",
    "\n",
    "\n",
    "\n",
    "\n",
    "\n"
   ]
  },
  {
   "cell_type": "code",
   "execution_count": null,
   "metadata": {},
   "outputs": [],
   "source": []
  },
  {
   "cell_type": "code",
   "execution_count": null,
   "metadata": {},
   "outputs": [],
   "source": []
  },
  {
   "cell_type": "code",
   "execution_count": null,
   "metadata": {},
   "outputs": [],
   "source": []
  }
 ],
 "metadata": {
  "kernelspec": {
   "display_name": "Python 3",
   "language": "python",
   "name": "python3"
  },
  "language_info": {
   "codemirror_mode": {
    "name": "ipython",
    "version": 3
   },
   "file_extension": ".py",
   "mimetype": "text/x-python",
   "name": "python",
   "nbconvert_exporter": "python",
   "pygments_lexer": "ipython3",
   "version": "3.7.4"
  }
 },
 "nbformat": 4,
 "nbformat_minor": 2
}
