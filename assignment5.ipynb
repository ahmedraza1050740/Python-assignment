{
 "cells": [
  {
   "cell_type": "code",
   "execution_count": 80,
   "metadata": {},
   "outputs": [
    {
     "name": "stdout",
     "output_type": "stream",
     "text": [
      "Enter the factorial Number 4\n",
      "The Factorial of  4 is = 24\n"
     ]
    }
   ],
   "source": [
    "\n",
    "\n",
    "def fact(num):\n",
    "    \n",
    "    if num<0:\n",
    "        print('Factorial does not exist negative number..!!!')\n",
    "    if num==0:\n",
    "        print('Factorial of 0 is 1.')\n",
    "        \n",
    "    else:\n",
    "        factor=1\n",
    "        for i in range(1,num+1):\n",
    "            factor= factor*i\n",
    "        return factor;\n",
    "            \n",
    "            \n",
    "\n",
    "num = int(input('Enter the factorial Number '))\n",
    "a=fact(num)\n",
    "print('The Factorial of ',num, 'is =',a)\n",
    "    "
   ]
  },
  {
   "cell_type": "code",
   "execution_count": 100,
   "metadata": {},
   "outputs": [
    {
     "name": "stdout",
     "output_type": "stream",
     "text": [
      "enter stringAhme Raaza\n",
      "Original String :  Ahme Raaza\n",
      "No. of Upper case characters :  2\n",
      "No. of Lower case Characters :  7\n"
     ]
    }
   ],
   "source": [
    "def string_test(s):\n",
    "    d={\"UPPER_CASE\":0, \"LOWER_CASE\":0}\n",
    "    for c in s:\n",
    "        if c.isupper():\n",
    "           d[\"UPPER_CASE\"]+=1\n",
    "        if c.islower():\n",
    "           d[\"LOWER_CASE\"]+=1\n",
    "        \n",
    "           \n",
    "    print (\"Original String : \", s)\n",
    "    print (\"No. of Upper case characters : \", d[\"UPPER_CASE\"])\n",
    "    print (\"No. of Lower case Characters : \", d[\"LOWER_CASE\"])\n",
    "\n",
    "s=input(\"enter string\")\n",
    "string_test(s)\n"
   ]
  },
  {
   "cell_type": "code",
   "execution_count": 102,
   "metadata": {},
   "outputs": [
    {
     "name": "stdout",
     "output_type": "stream",
     "text": [
      "Enter the number=5\n",
      "THhe given number  5  is odd\n"
     ]
    }
   ],
   "source": [
    "a = int(input(\"Enter the number=\"))\n",
    "def evenodd():\n",
    "    if a%2==0:\n",
    "        print(\"The give number \",a,\" is even\")\n",
    "    else:\n",
    "        print(\"THhe given number \",a,\" is odd\")\n",
    "        \n",
    "evenodd()"
   ]
  },
  {
   "cell_type": "code",
   "execution_count": 104,
   "metadata": {},
   "outputs": [
    {
     "name": "stdout",
     "output_type": "stream",
     "text": [
      "Please enter your own String : hello\n",
      "This is Not a Palindrome String\n"
     ]
    }
   ],
   "source": [
    "string = input(\"Please enter your own String : \")\n",
    "\n",
    "if(string == string[:: - 1]):\n",
    "   print(\"This is a Palindrome String\")\n",
    "else:\n",
    "   print(\"This is Not a Palindrome String\")"
   ]
  },
  {
   "cell_type": "code",
   "execution_count": 132,
   "metadata": {},
   "outputs": [
    {
     "name": "stdout",
     "output_type": "stream",
     "text": [
      "Please Enter a number=17\n",
      "17  is prime number\n"
     ]
    }
   ],
   "source": [
    "num=int(input(\"Please Enter a number=\"))\n",
    "def prim(num):\n",
    "    if num>1:\n",
    "        for i in range(2,num):\n",
    "            if num%i==0:\n",
    "                print(num,\" is not a prime number.\")\n",
    "                break\n",
    "        else:\n",
    "            print(num,\" is prime number\")\n",
    "        \n",
    "prim(num) \n",
    "    \n",
    "    "
   ]
  },
  {
   "cell_type": "code",
   "execution_count": null,
   "metadata": {},
   "outputs": [],
   "source": [
    "def shop(*item):\n",
    "    for items in item:\n",
    "        print('You are selected',items)\n",
    "shop('banan','apple','pineapple','mango')\n",
    "    "
   ]
  },
  {
   "cell_type": "code",
   "execution_count": null,
   "metadata": {},
   "outputs": [],
   "source": []
  },
  {
   "cell_type": "code",
   "execution_count": null,
   "metadata": {},
   "outputs": [],
   "source": []
  }
 ],
 "metadata": {
  "kernelspec": {
   "display_name": "Python 3",
   "language": "python",
   "name": "python3"
  },
  "language_info": {
   "codemirror_mode": {
    "name": "ipython",
    "version": 3
   },
   "file_extension": ".py",
   "mimetype": "text/x-python",
   "name": "python",
   "nbconvert_exporter": "python",
   "pygments_lexer": "ipython3",
   "version": "3.7.4"
  }
 },
 "nbformat": 4,
 "nbformat_minor": 2
}
